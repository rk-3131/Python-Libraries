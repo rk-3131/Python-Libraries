{
 "cells": [
  {
   "cell_type": "code",
   "execution_count": 27,
   "id": "81a323f5",
   "metadata": {},
   "outputs": [],
   "source": [
    "import numpy as np"
   ]
  },
  {
   "cell_type": "code",
   "execution_count": 28,
   "id": "a670c7b6",
   "metadata": {},
   "outputs": [],
   "source": [
    "# numpy array can be created just like any other python list with given range values"
   ]
  },
  {
   "cell_type": "code",
   "execution_count": 29,
   "id": "ce862627",
   "metadata": {},
   "outputs": [],
   "source": [
    "l1 = np.arange(10000)"
   ]
  },
  {
   "cell_type": "code",
   "execution_count": 30,
   "id": "881e6e51",
   "metadata": {},
   "outputs": [
    {
     "data": {
      "text/plain": [
       "array([   0,    1,    2, ..., 9997, 9998, 9999])"
      ]
     },
     "execution_count": 30,
     "metadata": {},
     "output_type": "execute_result"
    }
   ],
   "source": [
    "l1"
   ]
  },
  {
   "cell_type": "code",
   "execution_count": 31,
   "id": "ab1bc434",
   "metadata": {},
   "outputs": [],
   "source": [
    "# Here array is created with element which has range of numbers in the range 0 to 9999"
   ]
  },
  {
   "cell_type": "code",
   "execution_count": 32,
   "id": "e4c7a03b",
   "metadata": {},
   "outputs": [],
   "source": [
    "l1 = np.arange(1, 10001)"
   ]
  },
  {
   "cell_type": "code",
   "execution_count": 33,
   "id": "74574242",
   "metadata": {},
   "outputs": [
    {
     "data": {
      "text/plain": [
       "array([    1,     2,     3, ...,  9998,  9999, 10000])"
      ]
     },
     "execution_count": 33,
     "metadata": {},
     "output_type": "execute_result"
    }
   ],
   "source": [
    "l1"
   ]
  },
  {
   "cell_type": "code",
   "execution_count": 34,
   "id": "6c94df4b",
   "metadata": {},
   "outputs": [],
   "source": [
    "# Now we have got to know that we have the numpy in the range of particular number\n",
    "# How can we prove that it is good to use the numpy array as it is faster than anything"
   ]
  },
  {
   "cell_type": "code",
   "execution_count": 47,
   "id": "99c7b35b",
   "metadata": {},
   "outputs": [],
   "source": [
    "SIZE = 100000"
   ]
  },
  {
   "cell_type": "code",
   "execution_count": 54,
   "id": "96f24b60",
   "metadata": {},
   "outputs": [
    {
     "name": "stdout",
     "output_type": "stream",
     "text": [
      "Time for the python list is:  23.334741592407227\n",
      "Time for numpy array:  9.371042251586914\n"
     ]
    }
   ],
   "source": [
    "l1 = range(SIZE)\n",
    "l2 = range(SIZE)\n",
    "\n",
    "a1 = np.arange(SIZE)\n",
    "a2 = np.arange(SIZE)\n",
    "\n",
    "start = time.time()\n",
    "\n",
    "result = [(x + y) for x, y in zip (l1, l2)]\n",
    "print(\"Time for the python list is: \", (time.time() - start) * 1000)\n",
    "\n",
    "start = time.time()\n",
    "result = a1 + a2\n",
    "\n",
    "print(\"Time for numpy array: \", (time.time() - start) * 1000)"
   ]
  },
  {
   "cell_type": "code",
   "execution_count": 55,
   "id": "ee7a8852",
   "metadata": {},
   "outputs": [],
   "source": [
    "# So look there's huge difference between working of the regular list and numpy array"
   ]
  },
  {
   "cell_type": "code",
   "execution_count": 56,
   "id": "71e3052a",
   "metadata": {},
   "outputs": [],
   "source": [
    "# There are others features of the numpy array as well that we have to consider"
   ]
  },
  {
   "cell_type": "code",
   "execution_count": 57,
   "id": "45d05ea5",
   "metadata": {},
   "outputs": [],
   "source": [
    "a1 = np.array([1,2,3,4,5,6,7,8,9])"
   ]
  },
  {
   "cell_type": "code",
   "execution_count": 58,
   "id": "f8eca695",
   "metadata": {},
   "outputs": [],
   "source": [
    "a2 = np.array([1,2,3,4,5,6,7,8,9])"
   ]
  },
  {
   "cell_type": "code",
   "execution_count": 59,
   "id": "538b84d3",
   "metadata": {},
   "outputs": [
    {
     "data": {
      "text/plain": [
       "array([ 2,  4,  6,  8, 10, 12, 14, 16, 18])"
      ]
     },
     "execution_count": 59,
     "metadata": {},
     "output_type": "execute_result"
    }
   ],
   "source": [
    "a1 + a2"
   ]
  },
  {
   "cell_type": "code",
   "execution_count": 60,
   "id": "5d9deb76",
   "metadata": {},
   "outputs": [
    {
     "data": {
      "text/plain": [
       "array([ 1,  4,  9, 16, 25, 36, 49, 64, 81])"
      ]
     },
     "execution_count": 60,
     "metadata": {},
     "output_type": "execute_result"
    }
   ],
   "source": [
    "a1 * a2"
   ]
  },
  {
   "cell_type": "code",
   "execution_count": 61,
   "id": "3d352bc8",
   "metadata": {},
   "outputs": [
    {
     "data": {
      "text/plain": [
       "array([1., 1., 1., 1., 1., 1., 1., 1., 1.])"
      ]
     },
     "execution_count": 61,
     "metadata": {},
     "output_type": "execute_result"
    }
   ],
   "source": [
    "a1 / a2"
   ]
  },
  {
   "cell_type": "code",
   "execution_count": 62,
   "id": "7ee55e4d",
   "metadata": {},
   "outputs": [
    {
     "data": {
      "text/plain": [
       "array([        1,         4,        27,       256,      3125,     46656,\n",
       "          823543,  16777216, 387420489])"
      ]
     },
     "execution_count": 62,
     "metadata": {},
     "output_type": "execute_result"
    }
   ],
   "source": [
    "a1** a2"
   ]
  },
  {
   "cell_type": "code",
   "execution_count": null,
   "id": "73ba59e8",
   "metadata": {},
   "outputs": [],
   "source": []
  }
 ],
 "metadata": {
  "kernelspec": {
   "display_name": "Python 3 (ipykernel)",
   "language": "python",
   "name": "python3"
  },
  "language_info": {
   "codemirror_mode": {
    "name": "ipython",
    "version": 3
   },
   "file_extension": ".py",
   "mimetype": "text/x-python",
   "name": "python",
   "nbconvert_exporter": "python",
   "pygments_lexer": "ipython3",
   "version": "3.10.2"
  }
 },
 "nbformat": 4,
 "nbformat_minor": 5
}
