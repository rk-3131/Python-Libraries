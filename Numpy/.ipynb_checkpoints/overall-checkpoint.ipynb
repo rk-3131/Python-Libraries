{
 "cells": [
  {
   "cell_type": "code",
   "execution_count": 1,
   "id": "d1597b43",
   "metadata": {},
   "outputs": [],
   "source": [
    "import numpy as np"
   ]
  },
  {
   "cell_type": "code",
   "execution_count": 2,
   "id": "948e4df9",
   "metadata": {},
   "outputs": [],
   "source": [
    "myarray = np.array([10, 15, 20, 25, 30])"
   ]
  },
  {
   "cell_type": "code",
   "execution_count": 3,
   "id": "9cce676c",
   "metadata": {},
   "outputs": [
    {
     "data": {
      "text/plain": [
       "array([10, 15, 20, 25, 30])"
      ]
     },
     "execution_count": 3,
     "metadata": {},
     "output_type": "execute_result"
    }
   ],
   "source": [
    "myarray"
   ]
  },
  {
   "cell_type": "code",
   "execution_count": 4,
   "id": "4e21ca43",
   "metadata": {},
   "outputs": [],
   "source": [
    "# Now we can even give datatype to the elements that we have entered in the array explicitely"
   ]
  },
  {
   "cell_type": "code",
   "execution_count": 5,
   "id": "37d073a4",
   "metadata": {},
   "outputs": [],
   "source": [
    "myarray = np.array([10, 15, 16, 17, 18], np.int16)"
   ]
  },
  {
   "cell_type": "code",
   "execution_count": 6,
   "id": "e0c7f3be",
   "metadata": {},
   "outputs": [
    {
     "data": {
      "text/plain": [
       "array([10, 15, 16, 17, 18], dtype=int16)"
      ]
     },
     "execution_count": 6,
     "metadata": {},
     "output_type": "execute_result"
    }
   ],
   "source": [
    "myarray"
   ]
  },
  {
   "cell_type": "code",
   "execution_count": 7,
   "id": "2d51fac3",
   "metadata": {},
   "outputs": [],
   "source": [
    "myarray = np.array([10, 15, 16, 17, 18], np.float16)"
   ]
  },
  {
   "cell_type": "code",
   "execution_count": 8,
   "id": "38b0b110",
   "metadata": {},
   "outputs": [
    {
     "data": {
      "text/plain": [
       "array([10., 15., 16., 17., 18.], dtype=float16)"
      ]
     },
     "execution_count": 8,
     "metadata": {},
     "output_type": "execute_result"
    }
   ],
   "source": [
    "myarray"
   ]
  },
  {
   "cell_type": "code",
   "execution_count": 9,
   "id": "8a4408ae",
   "metadata": {},
   "outputs": [],
   "source": [
    "myarray = np.array([10, 15, 16, 17, 18], np.double)"
   ]
  },
  {
   "cell_type": "code",
   "execution_count": 10,
   "id": "fa5c3be5",
   "metadata": {},
   "outputs": [
    {
     "data": {
      "text/plain": [
       "array([10., 15., 16., 17., 18.])"
      ]
     },
     "execution_count": 10,
     "metadata": {},
     "output_type": "execute_result"
    }
   ],
   "source": [
    "myarray"
   ]
  },
  {
   "cell_type": "code",
   "execution_count": 11,
   "id": "d31cacc1",
   "metadata": {},
   "outputs": [],
   "source": [
    "# Hence we can give data type to the elements in the array explicitely\n",
    "# Keep in mind that we can give the bits to datatype after using number after data type"
   ]
  },
  {
   "cell_type": "code",
   "execution_count": 12,
   "id": "5c8ec094",
   "metadata": {},
   "outputs": [
    {
     "data": {
      "text/plain": [
       "10.0"
      ]
     },
     "execution_count": 12,
     "metadata": {},
     "output_type": "execute_result"
    }
   ],
   "source": [
    "myarray[0]"
   ]
  },
  {
   "cell_type": "code",
   "execution_count": 13,
   "id": "f12a6b0d",
   "metadata": {},
   "outputs": [
    {
     "data": {
      "text/plain": [
       "17.0"
      ]
     },
     "execution_count": 13,
     "metadata": {},
     "output_type": "execute_result"
    }
   ],
   "source": [
    "myarray[3]"
   ]
  },
  {
   "cell_type": "code",
   "execution_count": 14,
   "id": "d6aaa6ea",
   "metadata": {},
   "outputs": [],
   "source": [
    "# we can craete and manipulate 2D array using numpy function"
   ]
  },
  {
   "cell_type": "code",
   "execution_count": 15,
   "id": "91c4b530",
   "metadata": {},
   "outputs": [],
   "source": [
    "myarray = np.array([[10, 15, 16, 17], [20, 40, 50, 60], [100, 200, 300, 400]])"
   ]
  },
  {
   "cell_type": "code",
   "execution_count": 16,
   "id": "e5e24c70",
   "metadata": {},
   "outputs": [
    {
     "data": {
      "text/plain": [
       "array([10, 15, 16, 17])"
      ]
     },
     "execution_count": 16,
     "metadata": {},
     "output_type": "execute_result"
    }
   ],
   "source": [
    "myarray[0]"
   ]
  },
  {
   "cell_type": "code",
   "execution_count": 17,
   "id": "4507eedb",
   "metadata": {},
   "outputs": [
    {
     "data": {
      "text/plain": [
       "17"
      ]
     },
     "execution_count": 17,
     "metadata": {},
     "output_type": "execute_result"
    }
   ],
   "source": [
    "myarray[0][3]"
   ]
  },
  {
   "cell_type": "code",
   "execution_count": 18,
   "id": "6792893c",
   "metadata": {},
   "outputs": [
    {
     "data": {
      "text/plain": [
       "17"
      ]
     },
     "execution_count": 18,
     "metadata": {},
     "output_type": "execute_result"
    }
   ],
   "source": [
    "myarray[0, 3]"
   ]
  },
  {
   "cell_type": "code",
   "execution_count": 19,
   "id": "3501ef6d",
   "metadata": {},
   "outputs": [],
   "source": [
    "# This is how we can access different elements of the array (same as of the normal array in any language)"
   ]
  },
  {
   "cell_type": "code",
   "execution_count": 20,
   "id": "621c31c1",
   "metadata": {},
   "outputs": [
    {
     "data": {
      "text/plain": [
       "(3, 4)"
      ]
     },
     "execution_count": 20,
     "metadata": {},
     "output_type": "execute_result"
    }
   ],
   "source": [
    "myarray.shape"
   ]
  },
  {
   "cell_type": "code",
   "execution_count": 21,
   "id": "17b1730a",
   "metadata": {},
   "outputs": [],
   "source": [
    "# .shape is used to get basic information about how many numbers of rows and columns are there in any of the array"
   ]
  },
  {
   "cell_type": "code",
   "execution_count": 22,
   "id": "5e429715",
   "metadata": {},
   "outputs": [
    {
     "data": {
      "text/plain": [
       "dtype('int32')"
      ]
     },
     "execution_count": 22,
     "metadata": {},
     "output_type": "execute_result"
    }
   ],
   "source": [
    "myarray.dtype"
   ]
  },
  {
   "cell_type": "code",
   "execution_count": 23,
   "id": "f5faade9",
   "metadata": {},
   "outputs": [],
   "source": [
    "# This is used to get the data type of elements present inside of numpy array"
   ]
  },
  {
   "cell_type": "code",
   "execution_count": 24,
   "id": "e700b729",
   "metadata": {},
   "outputs": [],
   "source": [
    "myarray[0, 3] = 100"
   ]
  },
  {
   "cell_type": "code",
   "execution_count": 25,
   "id": "6243e510",
   "metadata": {},
   "outputs": [
    {
     "data": {
      "text/plain": [
       "array([[ 10,  15,  16, 100],\n",
       "       [ 20,  40,  50,  60],\n",
       "       [100, 200, 300, 400]])"
      ]
     },
     "execution_count": 25,
     "metadata": {},
     "output_type": "execute_result"
    }
   ],
   "source": [
    "myarray"
   ]
  },
  {
   "cell_type": "code",
   "execution_count": 26,
   "id": "ce41270d",
   "metadata": {},
   "outputs": [
    {
     "data": {
      "text/plain": [
       "100"
      ]
     },
     "execution_count": 26,
     "metadata": {},
     "output_type": "execute_result"
    }
   ],
   "source": [
    "myarray[0, 3]"
   ]
  },
  {
   "cell_type": "code",
   "execution_count": 27,
   "id": "b940fdcc",
   "metadata": {},
   "outputs": [],
   "source": [
    "# This is how we can update the elements inside of the numpy array"
   ]
  },
  {
   "cell_type": "markdown",
   "id": "810338e3",
   "metadata": {},
   "source": [
    "# Creation of numpy array using tuples and list"
   ]
  },
  {
   "cell_type": "code",
   "execution_count": 28,
   "id": "194d2d23",
   "metadata": {},
   "outputs": [],
   "source": [
    "listarray = np.array([[1, 2, 3], [4, 5, 6], [7, 8, 9]])"
   ]
  },
  {
   "cell_type": "code",
   "execution_count": 29,
   "id": "8da8dc98",
   "metadata": {},
   "outputs": [
    {
     "data": {
      "text/plain": [
       "array([[1, 2, 3],\n",
       "       [4, 5, 6],\n",
       "       [7, 8, 9]])"
      ]
     },
     "execution_count": 29,
     "metadata": {},
     "output_type": "execute_result"
    }
   ],
   "source": [
    "listarray"
   ]
  },
  {
   "cell_type": "code",
   "execution_count": 30,
   "id": "781a879d",
   "metadata": {},
   "outputs": [
    {
     "data": {
      "text/plain": [
       "9"
      ]
     },
     "execution_count": 30,
     "metadata": {},
     "output_type": "execute_result"
    }
   ],
   "source": [
    "listarray.size"
   ]
  },
  {
   "cell_type": "code",
   "execution_count": 31,
   "id": "cc98e6fa",
   "metadata": {},
   "outputs": [
    {
     "data": {
      "text/plain": [
       "(3, 3)"
      ]
     },
     "execution_count": 31,
     "metadata": {},
     "output_type": "execute_result"
    }
   ],
   "source": [
    "listarray.shape"
   ]
  },
  {
   "cell_type": "code",
   "execution_count": 32,
   "id": "770e134a",
   "metadata": {},
   "outputs": [],
   "source": [
    "# This is how we can create python array using list "
   ]
  },
  {
   "cell_type": "code",
   "execution_count": 33,
   "id": "1a3125e6",
   "metadata": {},
   "outputs": [],
   "source": [
    "myarray = np.array({10, 5, 0, 1})"
   ]
  },
  {
   "cell_type": "code",
   "execution_count": 34,
   "id": "82e70953",
   "metadata": {},
   "outputs": [
    {
     "data": {
      "text/plain": [
       "array({0, 1, 10, 5}, dtype=object)"
      ]
     },
     "execution_count": 34,
     "metadata": {},
     "output_type": "execute_result"
    }
   ],
   "source": [
    "myarray"
   ]
  },
  {
   "cell_type": "code",
   "execution_count": 35,
   "id": "de75a0bb",
   "metadata": {},
   "outputs": [],
   "source": [
    "# numpy array can also be craeted using object too as shown above"
   ]
  },
  {
   "cell_type": "markdown",
   "id": "30ceb16e",
   "metadata": {},
   "source": [
    "# Instrinsic array creation"
   ]
  },
  {
   "cell_type": "code",
   "execution_count": 36,
   "id": "a41939a4",
   "metadata": {},
   "outputs": [],
   "source": [
    "myarray = np.zeros(5)"
   ]
  },
  {
   "cell_type": "code",
   "execution_count": 37,
   "id": "90a4928f",
   "metadata": {},
   "outputs": [
    {
     "data": {
      "text/plain": [
       "array([0., 0., 0., 0., 0.])"
      ]
     },
     "execution_count": 37,
     "metadata": {},
     "output_type": "execute_result"
    }
   ],
   "source": [
    "myarray"
   ]
  },
  {
   "cell_type": "code",
   "execution_count": 38,
   "id": "9d222548",
   "metadata": {},
   "outputs": [],
   "source": [
    "myarray = np.zeros((3, 3))"
   ]
  },
  {
   "cell_type": "code",
   "execution_count": 39,
   "id": "f703b4d4",
   "metadata": {},
   "outputs": [
    {
     "data": {
      "text/plain": [
       "array([[0., 0., 0.],\n",
       "       [0., 0., 0.],\n",
       "       [0., 0., 0.]])"
      ]
     },
     "execution_count": 39,
     "metadata": {},
     "output_type": "execute_result"
    }
   ],
   "source": [
    "myarray"
   ]
  },
  {
   "cell_type": "code",
   "execution_count": 40,
   "id": "e6dbdb83",
   "metadata": {},
   "outputs": [],
   "source": [
    "# This is how you initialize array with zeros in it"
   ]
  },
  {
   "cell_type": "code",
   "execution_count": 41,
   "id": "206598dd",
   "metadata": {},
   "outputs": [],
   "source": [
    "myarray = np.arange(10)"
   ]
  },
  {
   "cell_type": "code",
   "execution_count": 42,
   "id": "9c4ed962",
   "metadata": {},
   "outputs": [
    {
     "data": {
      "text/plain": [
       "array([0, 1, 2, 3, 4, 5, 6, 7, 8, 9])"
      ]
     },
     "execution_count": 42,
     "metadata": {},
     "output_type": "execute_result"
    }
   ],
   "source": [
    "myarray"
   ]
  },
  {
   "cell_type": "code",
   "execution_count": 43,
   "id": "e4c031df",
   "metadata": {},
   "outputs": [],
   "source": [
    "myarray = np.array([[np.arange(3)], [np.arange(3)]])"
   ]
  },
  {
   "cell_type": "code",
   "execution_count": 44,
   "id": "7477d1e2",
   "metadata": {},
   "outputs": [
    {
     "data": {
      "text/plain": [
       "array([[[0, 1, 2]],\n",
       "\n",
       "       [[0, 1, 2]]])"
      ]
     },
     "execution_count": 44,
     "metadata": {},
     "output_type": "execute_result"
    }
   ],
   "source": [
    "myarray"
   ]
  },
  {
   "cell_type": "code",
   "execution_count": 45,
   "id": "cffae907",
   "metadata": {},
   "outputs": [],
   "source": [
    "# arange function goes from 0 to n-1"
   ]
  },
  {
   "cell_type": "code",
   "execution_count": 46,
   "id": "44155f15",
   "metadata": {},
   "outputs": [],
   "source": [
    "lspace = np.linspace(1, 10, 3)"
   ]
  },
  {
   "cell_type": "code",
   "execution_count": 47,
   "id": "2921c2d9",
   "metadata": {},
   "outputs": [
    {
     "data": {
      "text/plain": [
       "array([ 1. ,  5.5, 10. ])"
      ]
     },
     "execution_count": 47,
     "metadata": {},
     "output_type": "execute_result"
    }
   ],
   "source": [
    "lspace"
   ]
  },
  {
   "cell_type": "code",
   "execution_count": 48,
   "id": "122f8e21",
   "metadata": {},
   "outputs": [],
   "source": [
    "# this np.linspace element will give me 3 numbers from 1 to 10 which will be equally spaced"
   ]
  },
  {
   "cell_type": "code",
   "execution_count": 49,
   "id": "aba62ded",
   "metadata": {},
   "outputs": [],
   "source": [
    "emp = np.empty((3, 3))"
   ]
  },
  {
   "cell_type": "code",
   "execution_count": 50,
   "id": "fa4e8815",
   "metadata": {},
   "outputs": [
    {
     "data": {
      "text/plain": [
       "array([[0., 0., 0.],\n",
       "       [0., 0., 0.],\n",
       "       [0., 0., 0.]])"
      ]
     },
     "execution_count": 50,
     "metadata": {},
     "output_type": "execute_result"
    }
   ],
   "source": [
    "emp"
   ]
  },
  {
   "cell_type": "code",
   "execution_count": 51,
   "id": "d7e33d7b",
   "metadata": {},
   "outputs": [],
   "source": [
    "# this is emp function which is used to create empty array of given dimension "
   ]
  },
  {
   "cell_type": "code",
   "execution_count": 52,
   "id": "d4a8fabe",
   "metadata": {},
   "outputs": [],
   "source": [
    "emp_like = np.empty_like(lspace)"
   ]
  },
  {
   "cell_type": "code",
   "execution_count": 53,
   "id": "b545c5ed",
   "metadata": {},
   "outputs": [
    {
     "data": {
      "text/plain": [
       "array([ 1. ,  5.5, 10. ])"
      ]
     },
     "execution_count": 53,
     "metadata": {},
     "output_type": "execute_result"
    }
   ],
   "source": [
    "emp_like"
   ]
  },
  {
   "cell_type": "code",
   "execution_count": 54,
   "id": "ca3f830e",
   "metadata": {},
   "outputs": [],
   "source": [
    "# empty like is a function which is used for the purpose of intializing the new array of size equal to size provided in params"
   ]
  },
  {
   "cell_type": "code",
   "execution_count": 55,
   "id": "930ad33b",
   "metadata": {},
   "outputs": [],
   "source": [
    "identity = np.identity(3)"
   ]
  },
  {
   "cell_type": "code",
   "execution_count": 56,
   "id": "2509613e",
   "metadata": {},
   "outputs": [
    {
     "data": {
      "text/plain": [
       "array([[1., 0., 0.],\n",
       "       [0., 1., 0.],\n",
       "       [0., 0., 1.]])"
      ]
     },
     "execution_count": 56,
     "metadata": {},
     "output_type": "execute_result"
    }
   ],
   "source": [
    "identity"
   ]
  },
  {
   "cell_type": "code",
   "execution_count": 57,
   "id": "c4d3009e",
   "metadata": {},
   "outputs": [],
   "source": [
    "# np.identity is a function which is used to have identity matrix of given dimension"
   ]
  },
  {
   "cell_type": "code",
   "execution_count": 58,
   "id": "e803df15",
   "metadata": {},
   "outputs": [],
   "source": [
    "one_d = np.arange(99)"
   ]
  },
  {
   "cell_type": "code",
   "execution_count": 59,
   "id": "d47efa48",
   "metadata": {},
   "outputs": [
    {
     "data": {
      "text/plain": [
       "array([ 0,  1,  2,  3,  4,  5,  6,  7,  8,  9, 10, 11, 12, 13, 14, 15, 16,\n",
       "       17, 18, 19, 20, 21, 22, 23, 24, 25, 26, 27, 28, 29, 30, 31, 32, 33,\n",
       "       34, 35, 36, 37, 38, 39, 40, 41, 42, 43, 44, 45, 46, 47, 48, 49, 50,\n",
       "       51, 52, 53, 54, 55, 56, 57, 58, 59, 60, 61, 62, 63, 64, 65, 66, 67,\n",
       "       68, 69, 70, 71, 72, 73, 74, 75, 76, 77, 78, 79, 80, 81, 82, 83, 84,\n",
       "       85, 86, 87, 88, 89, 90, 91, 92, 93, 94, 95, 96, 97, 98])"
      ]
     },
     "execution_count": 59,
     "metadata": {},
     "output_type": "execute_result"
    }
   ],
   "source": [
    "one_d"
   ]
  },
  {
   "cell_type": "code",
   "execution_count": 60,
   "id": "e1b931d8",
   "metadata": {},
   "outputs": [],
   "source": [
    "two_d = one_d.reshape(3, 33)"
   ]
  },
  {
   "cell_type": "code",
   "execution_count": 61,
   "id": "f964b387",
   "metadata": {},
   "outputs": [
    {
     "data": {
      "text/plain": [
       "array([[ 0,  1,  2,  3,  4,  5,  6,  7,  8,  9, 10, 11, 12, 13, 14, 15,\n",
       "        16, 17, 18, 19, 20, 21, 22, 23, 24, 25, 26, 27, 28, 29, 30, 31,\n",
       "        32],\n",
       "       [33, 34, 35, 36, 37, 38, 39, 40, 41, 42, 43, 44, 45, 46, 47, 48,\n",
       "        49, 50, 51, 52, 53, 54, 55, 56, 57, 58, 59, 60, 61, 62, 63, 64,\n",
       "        65],\n",
       "       [66, 67, 68, 69, 70, 71, 72, 73, 74, 75, 76, 77, 78, 79, 80, 81,\n",
       "        82, 83, 84, 85, 86, 87, 88, 89, 90, 91, 92, 93, 94, 95, 96, 97,\n",
       "        98]])"
      ]
     },
     "execution_count": 61,
     "metadata": {},
     "output_type": "execute_result"
    }
   ],
   "source": [
    "two_d"
   ]
  },
  {
   "cell_type": "code",
   "execution_count": 62,
   "id": "1a7de7ae",
   "metadata": {},
   "outputs": [],
   "source": [
    "# name of the array .reshape is used for the purpose of reshaping the array in such a way that it will ve converted into 2 dimension\n",
    "# one thing to note here is that we have to conider the size while reshaping otherwise it will give us error"
   ]
  },
  {
   "cell_type": "code",
   "execution_count": 63,
   "id": "b8b7d6b9",
   "metadata": {},
   "outputs": [],
   "source": [
    "# Now we have converted a one d array into a two d array\n",
    "# to convert two d to one d we can use ravel function"
   ]
  },
  {
   "cell_type": "code",
   "execution_count": 64,
   "id": "aebf17cc",
   "metadata": {},
   "outputs": [],
   "source": [
    "one_d = two_d.ravel()"
   ]
  },
  {
   "cell_type": "code",
   "execution_count": 65,
   "id": "90aee335",
   "metadata": {},
   "outputs": [
    {
     "data": {
      "text/plain": [
       "array([ 0,  1,  2,  3,  4,  5,  6,  7,  8,  9, 10, 11, 12, 13, 14, 15, 16,\n",
       "       17, 18, 19, 20, 21, 22, 23, 24, 25, 26, 27, 28, 29, 30, 31, 32, 33,\n",
       "       34, 35, 36, 37, 38, 39, 40, 41, 42, 43, 44, 45, 46, 47, 48, 49, 50,\n",
       "       51, 52, 53, 54, 55, 56, 57, 58, 59, 60, 61, 62, 63, 64, 65, 66, 67,\n",
       "       68, 69, 70, 71, 72, 73, 74, 75, 76, 77, 78, 79, 80, 81, 82, 83, 84,\n",
       "       85, 86, 87, 88, 89, 90, 91, 92, 93, 94, 95, 96, 97, 98])"
      ]
     },
     "execution_count": 65,
     "metadata": {},
     "output_type": "execute_result"
    }
   ],
   "source": [
    "one_d"
   ]
  },
  {
   "cell_type": "code",
   "execution_count": 66,
   "id": "9c161e4c",
   "metadata": {},
   "outputs": [],
   "source": [
    "matrix = np.array([[1,2,3],[4,5,6],[7,1,0]])"
   ]
  },
  {
   "cell_type": "code",
   "execution_count": 67,
   "id": "ab44ac7a",
   "metadata": {},
   "outputs": [
    {
     "data": {
      "text/plain": [
       "array([[1, 2, 3],\n",
       "       [4, 5, 6],\n",
       "       [7, 1, 0]])"
      ]
     },
     "execution_count": 67,
     "metadata": {},
     "output_type": "execute_result"
    }
   ],
   "source": [
    "matrix"
   ]
  },
  {
   "cell_type": "code",
   "execution_count": 68,
   "id": "6ade2d5a",
   "metadata": {},
   "outputs": [],
   "source": [
    "# axis is used in most of the numpy function and hence we can use the number accordingly"
   ]
  },
  {
   "cell_type": "code",
   "execution_count": 69,
   "id": "d96c1499",
   "metadata": {},
   "outputs": [],
   "source": [
    "sum_of_cols = matrix.sum(axis = 0)"
   ]
  },
  {
   "cell_type": "code",
   "execution_count": 70,
   "id": "1e54fe90",
   "metadata": {},
   "outputs": [
    {
     "data": {
      "text/plain": [
       "array([12,  8,  9])"
      ]
     },
     "execution_count": 70,
     "metadata": {},
     "output_type": "execute_result"
    }
   ],
   "source": [
    "sum_of_cols"
   ]
  },
  {
   "cell_type": "code",
   "execution_count": 71,
   "id": "9748f648",
   "metadata": {},
   "outputs": [],
   "source": [
    "# hence axis 0 is used in the case where we have to calculate sum or any operation in column wise from top to down"
   ]
  },
  {
   "cell_type": "code",
   "execution_count": 72,
   "id": "8d7b71c2",
   "metadata": {},
   "outputs": [],
   "source": [
    "# simillarly axis 1 will be used in case where we have to find the calculation in the form of rows from left to right"
   ]
  },
  {
   "cell_type": "code",
   "execution_count": 73,
   "id": "280a3606",
   "metadata": {},
   "outputs": [],
   "source": [
    "sum_of_rows = matrix.sum(axis = 1)"
   ]
  },
  {
   "cell_type": "code",
   "execution_count": 74,
   "id": "d6480432",
   "metadata": {},
   "outputs": [
    {
     "data": {
      "text/plain": [
       "array([ 6, 15,  8])"
      ]
     },
     "execution_count": 74,
     "metadata": {},
     "output_type": "execute_result"
    }
   ],
   "source": [
    "sum_of_rows"
   ]
  },
  {
   "cell_type": "code",
   "execution_count": 75,
   "id": "13de733a",
   "metadata": {},
   "outputs": [],
   "source": [
    "# for axis = 0 the arraw is in the downward direction"
   ]
  },
  {
   "cell_type": "code",
   "execution_count": 76,
   "id": "597d0d5e",
   "metadata": {},
   "outputs": [],
   "source": [
    "# for axis = 1 the arrow is in the horizontal direction"
   ]
  },
  {
   "cell_type": "code",
   "execution_count": 77,
   "id": "3b7bca7a",
   "metadata": {},
   "outputs": [
    {
     "data": {
      "text/plain": [
       "array([[1, 4, 7],\n",
       "       [2, 5, 1],\n",
       "       [3, 6, 0]])"
      ]
     },
     "execution_count": 77,
     "metadata": {},
     "output_type": "execute_result"
    }
   ],
   "source": [
    "matrix.T"
   ]
  },
  {
   "cell_type": "code",
   "execution_count": 78,
   "id": "ebd9bce8",
   "metadata": {},
   "outputs": [],
   "source": [
    "# .T is used in the array where we have to find transpose of the given matrix"
   ]
  },
  {
   "cell_type": "code",
   "execution_count": 79,
   "id": "b704453f",
   "metadata": {},
   "outputs": [],
   "source": [
    "# to iterate through array without using two d logic we can use flat method"
   ]
  },
  {
   "cell_type": "code",
   "execution_count": 80,
   "id": "aae76bb0",
   "metadata": {},
   "outputs": [
    {
     "name": "stdout",
     "output_type": "stream",
     "text": [
      "1\n",
      "2\n",
      "3\n",
      "4\n",
      "5\n",
      "6\n",
      "7\n",
      "1\n",
      "0\n"
     ]
    }
   ],
   "source": [
    "for item in matrix.flat:\n",
    "    print(item)"
   ]
  },
  {
   "cell_type": "code",
   "execution_count": 81,
   "id": "40f71bf4",
   "metadata": {},
   "outputs": [
    {
     "data": {
      "text/plain": [
       "2"
      ]
     },
     "execution_count": 81,
     "metadata": {},
     "output_type": "execute_result"
    }
   ],
   "source": [
    "matrix.ndim"
   ]
  },
  {
   "cell_type": "code",
   "execution_count": 82,
   "id": "8c2bc441",
   "metadata": {},
   "outputs": [],
   "source": [
    "# number of dimension in the given array is given by ndim"
   ]
  },
  {
   "cell_type": "code",
   "execution_count": 83,
   "id": "b228e7bd",
   "metadata": {},
   "outputs": [],
   "source": [
    "array = np.array([10,20,30,40,50,60])"
   ]
  },
  {
   "cell_type": "code",
   "execution_count": 84,
   "id": "a652f892",
   "metadata": {},
   "outputs": [],
   "source": [
    "maxIndex = array.argmax()"
   ]
  },
  {
   "cell_type": "code",
   "execution_count": 85,
   "id": "d79bb304",
   "metadata": {},
   "outputs": [
    {
     "data": {
      "text/plain": [
       "5"
      ]
     },
     "execution_count": 85,
     "metadata": {},
     "output_type": "execute_result"
    }
   ],
   "source": [
    "maxIndex"
   ]
  },
  {
   "cell_type": "code",
   "execution_count": 86,
   "id": "e086c629",
   "metadata": {},
   "outputs": [],
   "source": [
    "# argmax is a method which is used to find index of maximum elements in the array"
   ]
  },
  {
   "cell_type": "code",
   "execution_count": 87,
   "id": "dded7966",
   "metadata": {},
   "outputs": [
    {
     "data": {
      "text/plain": [
       "0"
      ]
     },
     "execution_count": 87,
     "metadata": {},
     "output_type": "execute_result"
    }
   ],
   "source": [
    "array.argmin()"
   ]
  },
  {
   "cell_type": "code",
   "execution_count": 88,
   "id": "a6102006",
   "metadata": {},
   "outputs": [],
   "source": [
    "array = np.array([50, 20, 30, 40, 10, 100])"
   ]
  },
  {
   "cell_type": "code",
   "execution_count": 89,
   "id": "34ad3b08",
   "metadata": {},
   "outputs": [
    {
     "data": {
      "text/plain": [
       "array([4, 1, 2, 3, 0, 5], dtype=int64)"
      ]
     },
     "execution_count": 89,
     "metadata": {},
     "output_type": "execute_result"
    }
   ],
   "source": [
    "array.argsort()"
   ]
  },
  {
   "cell_type": "code",
   "execution_count": 90,
   "id": "4a4ba794",
   "metadata": {},
   "outputs": [],
   "source": [
    "# argsort is a function which is used to find index of the elements in increasing order"
   ]
  },
  {
   "cell_type": "code",
   "execution_count": 91,
   "id": "8b9f2619",
   "metadata": {},
   "outputs": [
    {
     "data": {
      "text/plain": [
       "8"
      ]
     },
     "execution_count": 91,
     "metadata": {},
     "output_type": "execute_result"
    }
   ],
   "source": [
    "matrix.argmin()"
   ]
  },
  {
   "cell_type": "code",
   "execution_count": 92,
   "id": "54e6a93f",
   "metadata": {},
   "outputs": [
    {
     "data": {
      "text/plain": [
       "6"
      ]
     },
     "execution_count": 92,
     "metadata": {},
     "output_type": "execute_result"
    }
   ],
   "source": [
    "matrix.argmax()"
   ]
  },
  {
   "cell_type": "code",
   "execution_count": 93,
   "id": "622fde13",
   "metadata": {},
   "outputs": [
    {
     "data": {
      "text/plain": [
       "array([[0, 1, 2],\n",
       "       [0, 1, 2],\n",
       "       [2, 1, 0]], dtype=int64)"
      ]
     },
     "execution_count": 93,
     "metadata": {},
     "output_type": "execute_result"
    }
   ],
   "source": [
    "matrix.argsort()"
   ]
  },
  {
   "cell_type": "code",
   "execution_count": 94,
   "id": "78804c9d",
   "metadata": {},
   "outputs": [],
   "source": [
    "# when we have argmin and then argmax to find max and min of the array then interpreter first straighten up the array and then\n",
    "# find max and min element of the array but for argsort index are sorted in rowwise fashion"
   ]
  },
  {
   "cell_type": "code",
   "execution_count": 95,
   "id": "28fdda11",
   "metadata": {},
   "outputs": [
    {
     "data": {
      "text/plain": [
       "array([[1, 2, 3],\n",
       "       [4, 5, 6],\n",
       "       [7, 1, 0]])"
      ]
     },
     "execution_count": 95,
     "metadata": {},
     "output_type": "execute_result"
    }
   ],
   "source": [
    "matrix"
   ]
  },
  {
   "cell_type": "code",
   "execution_count": 96,
   "id": "2fc798be",
   "metadata": {},
   "outputs": [
    {
     "data": {
      "text/plain": [
       "array([2, 1, 1], dtype=int64)"
      ]
     },
     "execution_count": 96,
     "metadata": {},
     "output_type": "execute_result"
    }
   ],
   "source": [
    "matrix.argmax(axis = 0)"
   ]
  },
  {
   "cell_type": "code",
   "execution_count": 97,
   "id": "8943be1c",
   "metadata": {},
   "outputs": [
    {
     "data": {
      "text/plain": [
       "array([2, 2, 0], dtype=int64)"
      ]
     },
     "execution_count": 97,
     "metadata": {},
     "output_type": "execute_result"
    }
   ],
   "source": [
    "matrix.argmax(axis = 1)"
   ]
  },
  {
   "cell_type": "code",
   "execution_count": 98,
   "id": "5cfcfee2",
   "metadata": {},
   "outputs": [],
   "source": [
    "# keep in mind that these are indices only and not actual values"
   ]
  },
  {
   "cell_type": "code",
   "execution_count": 99,
   "id": "770fadf7",
   "metadata": {},
   "outputs": [],
   "source": [
    "matrix2 = np.array([[1,2,3], [4,5,6], [7,8,9]])"
   ]
  },
  {
   "cell_type": "code",
   "execution_count": 100,
   "id": "54afae4b",
   "metadata": {},
   "outputs": [
    {
     "data": {
      "text/plain": [
       "array([[1, 2, 3],\n",
       "       [4, 5, 6],\n",
       "       [7, 8, 9]])"
      ]
     },
     "execution_count": 100,
     "metadata": {},
     "output_type": "execute_result"
    }
   ],
   "source": [
    "matrix2"
   ]
  },
  {
   "cell_type": "code",
   "execution_count": 101,
   "id": "34d86cff",
   "metadata": {},
   "outputs": [
    {
     "data": {
      "text/plain": [
       "array([[ 2,  4,  6],\n",
       "       [ 8, 10, 12],\n",
       "       [14,  9,  9]])"
      ]
     },
     "execution_count": 101,
     "metadata": {},
     "output_type": "execute_result"
    }
   ],
   "source": [
    "matrix + matrix2"
   ]
  },
  {
   "cell_type": "code",
   "execution_count": 102,
   "id": "8d7f3c95",
   "metadata": {},
   "outputs": [],
   "source": [
    "# we can perform sum of two matrices as per the index matched"
   ]
  },
  {
   "cell_type": "code",
   "execution_count": 103,
   "id": "66b878d2",
   "metadata": {},
   "outputs": [
    {
     "data": {
      "text/plain": [
       "array([[ 1,  4,  9],\n",
       "       [16, 25, 36],\n",
       "       [49,  8,  0]])"
      ]
     },
     "execution_count": 103,
     "metadata": {},
     "output_type": "execute_result"
    }
   ],
   "source": [
    "matrix * matrix2"
   ]
  },
  {
   "cell_type": "code",
   "execution_count": 104,
   "id": "4ff934f1",
   "metadata": {},
   "outputs": [],
   "source": [
    "sqrtMatrix = np.sqrt(matrix)"
   ]
  },
  {
   "cell_type": "code",
   "execution_count": 105,
   "id": "cc501ede",
   "metadata": {},
   "outputs": [
    {
     "data": {
      "text/plain": [
       "array([[1.        , 1.41421356, 1.73205081],\n",
       "       [2.        , 2.23606798, 2.44948974],\n",
       "       [2.64575131, 1.        , 0.        ]])"
      ]
     },
     "execution_count": 105,
     "metadata": {},
     "output_type": "execute_result"
    }
   ],
   "source": [
    "sqrtMatrix"
   ]
  },
  {
   "cell_type": "code",
   "execution_count": 106,
   "id": "8492c378",
   "metadata": {},
   "outputs": [],
   "source": [
    "# sqrt is used to get square root of the matrix"
   ]
  },
  {
   "cell_type": "code",
   "execution_count": 107,
   "id": "b7bd2762",
   "metadata": {},
   "outputs": [],
   "source": [
    "# min max and sum can also be calculated using respective function and then using axis function"
   ]
  },
  {
   "cell_type": "code",
   "execution_count": 108,
   "id": "259dc177",
   "metadata": {},
   "outputs": [],
   "source": [
    "# where function is used to retriev indices of the array where we want them to give us answers in the way we wanted"
   ]
  },
  {
   "cell_type": "code",
   "execution_count": 109,
   "id": "1935f963",
   "metadata": {},
   "outputs": [
    {
     "data": {
      "text/plain": [
       "(array([0, 0, 0, 1, 2, 2], dtype=int64),\n",
       " array([0, 1, 2, 0, 1, 2], dtype=int64))"
      ]
     },
     "execution_count": 109,
     "metadata": {},
     "output_type": "execute_result"
    }
   ],
   "source": [
    "np.where(matrix < 5)"
   ]
  },
  {
   "cell_type": "code",
   "execution_count": 110,
   "id": "da2c4a69",
   "metadata": {},
   "outputs": [],
   "source": [
    "# it is returned in the form of tuple\n",
    "# above output is based on the tuple as they are in the form of axis 0 and then axis 1"
   ]
  },
  {
   "cell_type": "code",
   "execution_count": 111,
   "id": "20cb3065",
   "metadata": {},
   "outputs": [
    {
     "data": {
      "text/plain": [
       "8"
      ]
     },
     "execution_count": 111,
     "metadata": {},
     "output_type": "execute_result"
    }
   ],
   "source": [
    "np.count_nonzero(matrix)"
   ]
  },
  {
   "cell_type": "code",
   "execution_count": 112,
   "id": "189771e3",
   "metadata": {},
   "outputs": [
    {
     "data": {
      "text/plain": [
       "9"
      ]
     },
     "execution_count": 112,
     "metadata": {},
     "output_type": "execute_result"
    }
   ],
   "source": [
    "np.count_nonzero(matrix2)"
   ]
  },
  {
   "cell_type": "code",
   "execution_count": 113,
   "id": "58a62db0",
   "metadata": {},
   "outputs": [],
   "source": [
    "# now we have undestood that numpy is faster than pthon list it can be found out by execution of the record time and all"
   ]
  },
  {
   "cell_type": "code",
   "execution_count": null,
   "id": "d06cf7a2",
   "metadata": {},
   "outputs": [],
   "source": [
    "# it can also be shown that numpy array takes less space using sys module"
   ]
  }
 ],
 "metadata": {
  "kernelspec": {
   "display_name": "Python 3 (ipykernel)",
   "language": "python",
   "name": "python3"
  },
  "language_info": {
   "codemirror_mode": {
    "name": "ipython",
    "version": 3
   },
   "file_extension": ".py",
   "mimetype": "text/x-python",
   "name": "python",
   "nbconvert_exporter": "python",
   "pygments_lexer": "ipython3",
   "version": "3.10.2"
  }
 },
 "nbformat": 4,
 "nbformat_minor": 5
}
